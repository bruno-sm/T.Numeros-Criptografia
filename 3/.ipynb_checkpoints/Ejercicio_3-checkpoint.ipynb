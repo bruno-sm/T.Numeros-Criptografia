{
 "cells": [
  {
   "cell_type": "code",
   "execution_count": 12,
   "metadata": {},
   "outputs": [],
   "source": [
    "n = BigInt(25851029405939727929221562380823);"
   ]
  },
  {
   "cell_type": "markdown",
   "metadata": {},
   "source": [
    "# Apartado 1\n",
    "\n",
    "### Calcula $a^{n-1}\\ mod\\ n$ para los 5 primeros primos."
   ]
  },
  {
   "cell_type": "code",
   "execution_count": 2,
   "metadata": {},
   "outputs": [
    {
     "name": "stdout",
     "output_type": "stream",
     "text": [
      "2^(n-1) mod n = 1\n",
      "3^(n-1) mod n = 1\n",
      "5^(n-1) mod n = 1\n",
      "7^(n-1) mod n = 1\n",
      "11^(n-1) mod n = 1\n"
     ]
    }
   ],
   "source": [
    "for a in [2, 3, 5, 7, 11]\n",
    "    println(\"$a^(n-1) mod n = $(powermod(a, n-1, n))\")\n",
    "end"
   ]
  },
  {
   "cell_type": "markdown",
   "metadata": {},
   "source": [
    "Como vemos $n$ es posible primo de Fermat para todas estas bases."
   ]
  },
  {
   "cell_type": "markdown",
   "metadata": {},
   "source": [
    "# Apartado 2\n",
    "\n",
    "### Si para alguna de esas bases tu número sale posible primo de Fermat, comprueba si además es posible primo de Euler."
   ]
  },
  {
   "cell_type": "markdown",
   "metadata": {},
   "source": [
    "Para ver si $n$ es posible primo de Euler comprobamos si $(\\frac{a}{n}) \\equiv a^{\\frac{n-1}{2}}\\ mod\\ n$ para cada base:"
   ]
  },
  {
   "cell_type": "code",
   "execution_count": 3,
   "metadata": {},
   "outputs": [
    {
     "name": "stdout",
     "output_type": "stream",
     "text": [
      "(2/n) = 1\n",
      "2^((n-1)/2) mod n = 1\n",
      "\n",
      "(3/n) = 1\n",
      "3^((n-1)/2) mod n = 1\n",
      "\n",
      "(5/n) = -1\n",
      "5^((n-1)/2) mod n = 25851029405939727929221562380822\n",
      "\n",
      "(7/n) = -1\n",
      "7^((n-1)/2) mod n = 25851029405939727929221562380822\n",
      "\n",
      "(11/n) = 1\n",
      "11^((n-1)/2) mod n = 1\n",
      "\n"
     ]
    }
   ],
   "source": [
    "using Combinatorics\n",
    "\n",
    "for p in [2, 3, 5, 7, 11]\n",
    "    j = jacobisymbol(p,n)\n",
    "    println(\"($p/n) = $j\")\n",
    "    \n",
    "    x = powermod(p, BigInt((n-1)/2), n)\n",
    "    println(\"$p^((n-1)/2) mod n = $x\")\n",
    "    \n",
    "    print(\"\\n\")\n",
    "end"
   ]
  },
  {
   "cell_type": "markdown",
   "metadata": {},
   "source": [
    "Vemos que $25851029405939727929221562380822 \\equiv -1\\ mod\\ n$:"
   ]
  },
  {
   "cell_type": "code",
   "execution_count": 4,
   "metadata": {},
   "outputs": [
    {
     "data": {
      "text/plain": [
       "true"
      ]
     },
     "execution_count": 4,
     "metadata": {},
     "output_type": "execute_result"
    }
   ],
   "source": [
    "(25851029405939727929221562380822 + 1) % n == 0"
   ]
  },
  {
   "cell_type": "markdown",
   "metadata": {},
   "source": [
    "Por tanto $n$ es posible primo de Euler para todas estas bases."
   ]
  },
  {
   "cell_type": "markdown",
   "metadata": {},
   "source": [
    "# Apartado 3\n",
    "\n",
    "### Calcula el test de Solovay-Strassen para los 5 primeros primos."
   ]
  },
  {
   "cell_type": "markdown",
   "metadata": {},
   "source": [
    "Ya está hecho en el apartado 2. Dado que lo ha superado la probabilidad de que $n$ sea primo es bastante alta."
   ]
  },
  {
   "cell_type": "markdown",
   "metadata": {},
   "source": [
    "# Apartado 4\n",
    "\n",
    "### Calcula el test de Miller-Rabin para esas 5 bases."
   ]
  },
  {
   "cell_type": "code",
   "execution_count": 27,
   "metadata": {},
   "outputs": [
    {
     "data": {
      "text/plain": [
       "1.0"
      ]
     },
     "execution_count": 27,
     "metadata": {},
     "output_type": "execute_result"
    }
   ],
   "source": [
    "((n-1) / 2) % 2"
   ]
  },
  {
   "cell_type": "code",
   "execution_count": 6,
   "metadata": {},
   "outputs": [
    {
     "data": {
      "text/plain": [
       "25851029405939727929221562380822"
      ]
     },
     "execution_count": 6,
     "metadata": {},
     "output_type": "execute_result"
    }
   ],
   "source": [
    "n-1"
   ]
  },
  {
   "cell_type": "code",
   "execution_count": 28,
   "metadata": {},
   "outputs": [
    {
     "name": "stdout",
     "output_type": "stream",
     "text": [
      "Miller-Rabin para a = 2:\n",
      "\n",
      "2^1m = 25092073144986503539071655686244 mod n\n",
      "2^2m = 5887279646436501054964786995752 mod n\n",
      "2^4m = 17974543883817467075786867592916 mod n\n",
      "2^8m = 10642406820255338432775844620279 mod n\n",
      "\n",
      "m = 3231378675742465991152695297601\n",
      "\n",
      "\n",
      "Miller-Rabin para a = 3:\n",
      "\n",
      "3^1m = 4237989600771169695133903768298 mod n\n",
      "3^2m = 20581004236226969119139382838252 mod n\n",
      "3^4m = 2104016110771500489895490673885 mod n\n",
      "3^8m = 4930033506350085983985042068348 mod n\n",
      "\n",
      "m = 3231378675742465991152695297601\n",
      "\n",
      "\n",
      "Miller-Rabin para a = 5:\n",
      "\n",
      "5^1m = 9772510769353958648288936460104 mod n\n",
      "5^2m = 15032630978346778570788858024986 mod n\n",
      "5^4m = 1741159894195902059053617423973 mod n\n",
      "5^8m = 7958289498654236166702703913008 mod n\n",
      "\n",
      "m = 3231378675742465991152695297601\n",
      "\n",
      "\n",
      "Miller-Rabin para a = 7:\n",
      "\n",
      "7^1m = 22685597233783842876663818593275 mod n\n",
      "7^2m = 21081347595514363719491965806830 mod n\n",
      "7^4m = 12691517815489091616538631786230 mod n\n",
      "7^8m = 150405554288540716325939493502 mod n\n",
      "\n",
      "m = 3231378675742465991152695297601\n",
      "\n",
      "\n",
      "Miller-Rabin para a = 11:\n",
      "\n",
      "11^1m = 11135657603193965510315165151311 mod n\n",
      "11^2m = 13274632133338077407336757175677 mod n\n",
      "11^4m = 24698817468248574520227502402983 mod n\n",
      "11^8m = 3026483281062428257822428997293 mod n\n",
      "\n",
      "m = 3231378675742465991152695297601\n",
      "\n",
      "\n"
     ]
    }
   ],
   "source": [
    "function miller_rabin_rec(a, n)\n",
    "    if n % 2 == 0\n",
    "        # Si n es par aplicamos Miller-Rabin a n/2, de esta forma delegamos a la llamada que calcula el primer elemento\n",
    "        # de la sucesión el cálculo del mínimo m tal que n = 2^k * m.\n",
    "        # También delegamos a esta llamada la información sobre la iteración en la que estamos.\n",
    "        i, m = miller_rabin(a, BigInt(n/2))\n",
    "    else\n",
    "        # Si n no es impar se establecen los valores de la primera iteración\n",
    "        i = 0 # Número de iteración\n",
    "        m = n # Mínimo m tal que n = 2^k * m\n",
    "    end\n",
    "    \n",
    "    println(\"$a^$(2^i)m = $(powermod(a, BigInt(2^i*m), n)) mod n\")\n",
    "    return i + 1, m\n",
    "end\n",
    "\n",
    "\n",
    "function miller_rabin(a, n)\n",
    "    # Llamamos a la fución con n-1 para que se cumpla n - 1 = 2^k * m\n",
    "    return miller_rabin_rec(a, n-1)\n",
    "end\n",
    "\n",
    "\n",
    "for a in [2, 3, 5, 7, 11]\n",
    "    println(\"Miller-Rabin para a = $a:\\n\")\n",
    "    i, m = miller_rabin(a, n)\n",
    "    println(\"\\nm = $m\\n\\n\")\n",
    "end"
   ]
  },
  {
   "cell_type": "markdown",
   "metadata": {},
   "source": [
    "# Apartado 5\n",
    "\n",
    "### ¿Qué deduces sobre la primalidad de tu número?"
   ]
  },
  {
   "cell_type": "code",
   "execution_count": null,
   "metadata": {},
   "outputs": [],
   "source": []
  }
 ],
 "metadata": {
  "kernelspec": {
   "display_name": "Julia 1.0.3 (4 threads)",
   "language": "julia",
   "name": "julia-1.0k"
  },
  "language_info": {
   "file_extension": ".jl",
   "mimetype": "application/julia",
   "name": "julia",
   "version": "1.0.3"
  }
 },
 "nbformat": 4,
 "nbformat_minor": 2
}
