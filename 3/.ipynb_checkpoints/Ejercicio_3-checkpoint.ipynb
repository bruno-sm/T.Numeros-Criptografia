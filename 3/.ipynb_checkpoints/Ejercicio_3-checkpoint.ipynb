{
 "cells": [
  {
   "cell_type": "code",
   "execution_count": 1,
   "metadata": {},
   "outputs": [],
   "source": [
    "n = 25851029405939727929221562380823;"
   ]
  },
  {
   "cell_type": "code",
   "execution_count": 2,
   "metadata": {},
   "outputs": [
    {
     "data": {
      "text/plain": [
       "25851029405939727929221562380823"
      ]
     },
     "execution_count": 2,
     "metadata": {},
     "output_type": "execute_result"
    }
   ],
   "source": [
    "using Primes\n",
    "factor(n)"
   ]
  },
  {
   "cell_type": "markdown",
   "metadata": {},
   "source": [
    "# Apartado 1\n",
    "\n",
    "## Calcula $a^{n-1}\\ mod\\ n$ para los 5 primeros primos."
   ]
  },
  {
   "cell_type": "code",
   "execution_count": 3,
   "metadata": {},
   "outputs": [
    {
     "name": "stdout",
     "output_type": "stream",
     "text": [
      "2^(n-1) mod n = 1\n",
      "3^(n-1) mod n = 1\n",
      "5^(n-1) mod n = 1\n",
      "7^(n-1) mod n = 1\n",
      "11^(n-1) mod n = 1\n"
     ]
    }
   ],
   "source": [
    "for a in [2, 3, 5, 7, 11]\n",
    "    println(\"$a^(n-1) mod n = $(powermod(a, n-1, n))\")\n",
    "end"
   ]
  },
  {
   "cell_type": "markdown",
   "metadata": {},
   "source": [
    "# Apartado 2\n",
    "\n",
    "## Si para alguna de esas bases tu número sale posible primo de Fermat, comprueba si además es posible primo de Euler."
   ]
  },
  {
   "cell_type": "code",
   "execution_count": 15,
   "metadata": {},
   "outputs": [
    {
     "data": {
      "text/plain": [
       "12925514702969864679275985108992"
      ]
     },
     "execution_count": 15,
     "metadata": {},
     "output_type": "execute_result"
    }
   ],
   "source": [
    "BigInt((n-1)/2)"
   ]
  },
  {
   "cell_type": "code",
   "execution_count": 5,
   "metadata": {},
   "outputs": [
    {
     "name": "stdout",
     "output_type": "stream",
     "text": [
      "(2/n) = 1\n",
      "2^((n-1)/2) mod n = 23819188625174717318756134608312\n",
      "Es posible primo de Euler: false\n",
      "\n",
      "(3/n) = 1\n",
      "3^((n-1)/2) mod n = 5774003919711517421857732580606\n",
      "Es posible primo de Euler: false\n",
      "\n",
      "(5/n) = -1\n",
      "5^((n-1)/2) mod n = 8594181569355170552110926625344\n",
      "Es posible primo de Euler: false\n",
      "\n",
      "(7/n) = -1\n",
      "7^((n-1)/2) mod n = 1925426136787527520248705438949\n",
      "Es posible primo de Euler: false\n",
      "\n",
      "(11/n) = 1\n",
      "11^((n-1)/2) mod n = 13608190963465223821733355716644\n",
      "Es posible primo de Euler: false\n",
      "\n"
     ]
    }
   ],
   "source": [
    "using Combinatorics\n",
    "\n",
    "for p in [2, 3, 5, 7, 11]\n",
    "    j = jacobisymbol(p,n)\n",
    "    println(\"($p/n) = $j\")\n",
    "    \n",
    "    x = powermod(p, BigInt((n-1)/2), n)\n",
    "    println(\"$p^((n-1)/2) mod n = $x\")\n",
    "    \n",
    "    println(\"Es posible primo de Euler: $(j == n)\")\n",
    "    \n",
    "    print(\"\\n\")\n",
    "end"
   ]
  },
  {
   "cell_type": "markdown",
   "metadata": {},
   "source": [
    "# Apartado 3\n",
    "\n",
    "## Calcula el test de Solovay-Strassen para los 5 primeros primos."
   ]
  },
  {
   "cell_type": "markdown",
   "metadata": {},
   "source": [
    "# Apartado 4\n",
    "\n",
    "## Calcula el test de Miller-Rabin para esas 5 bases."
   ]
  },
  {
   "cell_type": "markdown",
   "metadata": {},
   "source": [
    "# Apartado 5\n",
    "\n",
    "## ¿Qué deduces sobre la primalidad de tu número?"
   ]
  },
  {
   "cell_type": "code",
   "execution_count": null,
   "metadata": {},
   "outputs": [],
   "source": []
  }
 ],
 "metadata": {
  "kernelspec": {
   "display_name": "Julia 1.0.3 (4 threads)",
   "language": "julia",
   "name": "julia-1.0k"
  },
  "language_info": {
   "file_extension": ".jl",
   "mimetype": "application/julia",
   "name": "julia",
   "version": "1.0.3"
  }
 },
 "nbformat": 4,
 "nbformat_minor": 2
}
