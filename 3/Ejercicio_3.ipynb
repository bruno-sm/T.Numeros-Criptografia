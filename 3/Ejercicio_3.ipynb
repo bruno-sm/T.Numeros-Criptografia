{
 "cells": [
  {
   "cell_type": "code",
   "execution_count": 1,
   "metadata": {},
   "outputs": [],
   "source": [
    "n = BigInt(25851029405939727929221562380823);"
   ]
  },
  {
   "cell_type": "markdown",
   "metadata": {},
   "source": [
    "# Apartado 1\n",
    "\n",
    "### Calcula $a^{n-1}\\ mod\\ n$ para los 5 primeros primos."
   ]
  },
  {
   "cell_type": "code",
   "execution_count": 2,
   "metadata": {
    "hide_input": false,
    "scrolled": true
   },
   "outputs": [
    {
     "name": "stdout",
     "output_type": "stream",
     "text": [
      "2^(n-1) mod n = 1\n",
      "3^(n-1) mod n = 1\n",
      "5^(n-1) mod n = 1\n",
      "7^(n-1) mod n = 1\n",
      "11^(n-1) mod n = 1\n"
     ]
    }
   ],
   "source": [
    "for a in [2, 3, 5, 7, 11]\n",
    "    println(\"$a^(n-1) mod n = $(powermod(a, n-1, n))\")\n",
    "end"
   ]
  },
  {
   "cell_type": "markdown",
   "metadata": {},
   "source": [
    "Como vemos $n$ es posible primo de Fermat para todas estas bases."
   ]
  },
  {
   "cell_type": "markdown",
   "metadata": {},
   "source": [
    "# Apartado 2\n",
    "\n",
    "### Si para alguna de esas bases tu número sale posible primo de Fermat, comprueba si además es posible primo de Euler."
   ]
  },
  {
   "cell_type": "markdown",
   "metadata": {},
   "source": [
    "Para ver si $n$ es posible primo de Euler comprobamos si $(\\frac{a}{n}) \\equiv a^{\\frac{n-1}{2}}\\ mod\\ n$ para cada base:"
   ]
  },
  {
   "cell_type": "code",
   "execution_count": 3,
   "metadata": {},
   "outputs": [
    {
     "name": "stdout",
     "output_type": "stream",
     "text": [
      "(2/n) = 1\n",
      "2^((n-1)/2) mod n = 1\n",
      "\n",
      "(3/n) = 1\n",
      "3^((n-1)/2) mod n = 1\n",
      "\n",
      "(5/n) = -1\n",
      "5^((n-1)/2) mod n = 25851029405939727929221562380822\n",
      "\n",
      "(7/n) = -1\n",
      "7^((n-1)/2) mod n = 25851029405939727929221562380822\n",
      "\n",
      "(11/n) = 1\n",
      "11^((n-1)/2) mod n = 1\n",
      "\n"
     ]
    }
   ],
   "source": [
    "using Combinatorics\n",
    "\n",
    "for p in [2, 3, 5, 7, 11]\n",
    "    j = jacobisymbol(p,n)\n",
    "    println(\"($p/n) = $j\")\n",
    "    \n",
    "    x = powermod(p, BigInt((n-1)/2), n)\n",
    "    println(\"$p^((n-1)/2) mod n = $x\")\n",
    "    \n",
    "    print(\"\\n\")\n",
    "end"
   ]
  },
  {
   "cell_type": "markdown",
   "metadata": {},
   "source": [
    "Vemos que $25851029405939727929221562380822 \\equiv -1\\ mod\\ n$:"
   ]
  },
  {
   "cell_type": "code",
   "execution_count": 4,
   "metadata": {},
   "outputs": [
    {
     "data": {
      "text/plain": [
       "true"
      ]
     },
     "execution_count": 4,
     "metadata": {},
     "output_type": "execute_result"
    }
   ],
   "source": [
    "(25851029405939727929221562380822 + 1) % n == 0"
   ]
  },
  {
   "cell_type": "markdown",
   "metadata": {},
   "source": [
    "Por tanto $n$ es posible primo de Euler para todas estas bases."
   ]
  },
  {
   "cell_type": "markdown",
   "metadata": {},
   "source": [
    "# Apartado 3\n",
    "\n",
    "### Calcula el test de Solovay-Strassen para los 5 primeros primos."
   ]
  },
  {
   "cell_type": "markdown",
   "metadata": {},
   "source": [
    "Ya está hecho en el apartado 2. Dado que lo ha superado la probabilidad de que $n$ sea primo es bastante alta."
   ]
  },
  {
   "cell_type": "markdown",
   "metadata": {},
   "source": [
    "# Apartado 4\n",
    "\n",
    "### Calcula el test de Miller-Rabin para esas 5 bases."
   ]
  },
  {
   "cell_type": "code",
   "execution_count": 7,
   "metadata": {},
   "outputs": [
    {
     "name": "stdout",
     "output_type": "stream",
     "text": [
      "Miller-Rabin para a = 2:\n",
      "\n",
      "2^1m = 1 mod n\n",
      "2^2m = 1 mod n\n",
      "\n",
      "m = 12925514702969863964610781190411\n",
      "\n",
      "\n",
      "Miller-Rabin para a = 3:\n",
      "\n",
      "3^1m = 1 mod n\n",
      "3^2m = 1 mod n\n",
      "\n",
      "m = 12925514702969863964610781190411\n",
      "\n",
      "\n",
      "Miller-Rabin para a = 5:\n",
      "\n",
      "5^1m = 25851029405939727929221562380822 mod n\n",
      "5^2m = 1 mod n\n",
      "\n",
      "m = 12925514702969863964610781190411\n",
      "\n",
      "\n",
      "Miller-Rabin para a = 7:\n",
      "\n",
      "7^1m = 25851029405939727929221562380822 mod n\n",
      "7^2m = 1 mod n\n",
      "\n",
      "m = 12925514702969863964610781190411\n",
      "\n",
      "\n",
      "Miller-Rabin para a = 11:\n",
      "\n",
      "11^1m = 1 mod n\n",
      "11^2m = 1 mod n\n",
      "\n",
      "m = 12925514702969863964610781190411\n",
      "\n",
      "\n"
     ]
    }
   ],
   "source": [
    "function miller_rabin_rec(a, acu, n)\n",
    "    if acu % 2 == 0\n",
    "        # Si n es par aplicamos Miller-Rabin a n/2, de esta forma delegamos a la llamada que calcula el primer elemento\n",
    "        # de la sucesión el cálculo del mínimo m tal que n = 2^k * m.\n",
    "        # También delegamos a esta llamada la información sobre la iteración en la que estamos.\n",
    "        i, m = miller_rabin_rec(a, BigInt(acu/2), n)\n",
    "    else\n",
    "        # Si n no es impar se establecen los valores de la primera iteración\n",
    "        i = 0 # Número de iteración\n",
    "        m = acu # Mínimo m tal que n - 1 = 2^k * m\n",
    "    end\n",
    "    \n",
    "    println(\"$a^$(2^i)m = $(powermod(a, (2^i)*m, n)) mod n\")\n",
    "    return i + 1, m\n",
    "end\n",
    "\n",
    "\n",
    "function miller_rabin(a, n)\n",
    "    # Llamamos a la fución con n-1 para que se cumpla n - 1 = 2^k * m\n",
    "    return miller_rabin_rec(a, n-1, n)\n",
    "end\n",
    "\n",
    "\n",
    "for a in [2, 3, 5, 7, 11]\n",
    "    println(\"Miller-Rabin para a = $a:\\n\")\n",
    "    i, m = miller_rabin(a, n)\n",
    "    println(\"\\nm = $m\\n\\n\")\n",
    "end"
   ]
  },
  {
   "cell_type": "markdown",
   "metadata": {},
   "source": [
    "Recordando que $25851029405939727929221562380822 \\equiv_n -1$, tenemos que para $a \\in \\{2, 3, 5, 7, 11\\}$, $a^m \\equiv_n \\pm 1$ y por lo tanto $n$ pasa el test de Miller-Rabin para estas bases."
   ]
  },
  {
   "cell_type": "markdown",
   "metadata": {},
   "source": [
    "# Apartado 5\n",
    "\n",
    "### ¿Qué deduces sobre la primalidad de tu número?"
   ]
  },
  {
   "cell_type": "markdown",
   "metadata": {},
   "source": [
    "Dado que ha pasado el test de Miller-Rabin para $5$ bases, la probabilidad de que $n$ sea compuesto es menor a $\\frac{1}{4^5}$"
   ]
  },
  {
   "cell_type": "code",
   "execution_count": 8,
   "metadata": {},
   "outputs": [
    {
     "data": {
      "text/plain": [
       "0.9990234375"
      ]
     },
     "execution_count": 8,
     "metadata": {},
     "output_type": "execute_result"
    }
   ],
   "source": [
    "1 - 1/(4^5)"
   ]
  },
  {
   "cell_type": "markdown",
   "metadata": {},
   "source": [
    "Es decir, tiene una probabilidad cercana al $1$ de ser primo."
   ]
  }
 ],
 "metadata": {
  "kernelspec": {
   "display_name": "Julia 1.0.3 (4 threads)",
   "language": "julia",
   "name": "julia-1.0k"
  },
  "language_info": {
   "file_extension": ".jl",
   "mimetype": "application/julia",
   "name": "julia",
   "version": "1.0.3"
  }
 },
 "nbformat": 4,
 "nbformat_minor": 2
}
