{
 "cells": [
  {
   "cell_type": "code",
   "execution_count": 2,
   "metadata": {},
   "outputs": [],
   "source": [
    "n = BigInt(25851029405939727929221562380823);"
   ]
  },
  {
   "cell_type": "markdown",
   "metadata": {},
   "source": [
    "# Apartado 1\n",
    "\n",
    "### Sea d el primer elemento de la sucesión 5, -7, 9, -11, 13, .... que satisface que el símbolo de Jacobi es $(\\frac{d}{n}) = -1$."
   ]
  },
  {
   "cell_type": "code",
   "execution_count": 3,
   "metadata": {},
   "outputs": [
    {
     "data": {
      "text/plain": [
       "5"
      ]
     },
     "execution_count": 3,
     "metadata": {},
     "output_type": "execute_result"
    }
   ],
   "source": [
    "using Combinatorics\n",
    "for d in [5, -7, 9, -11, 13]\n",
    "    if jacobisymbol(d, n) == -1\n",
    "        return d\n",
    "    end\n",
    "end"
   ]
  },
  {
   "cell_type": "code",
   "execution_count": 4,
   "metadata": {},
   "outputs": [],
   "source": [
    "d = 5;"
   ]
  },
  {
   "cell_type": "markdown",
   "metadata": {},
   "source": [
    "# Apartado 2\n",
    "\n",
    "### Con el discriminante d, define $P=1$, $Q=\\frac{1-d}{4}$, el entero cuadrático $\\alpha$ y las sucesiones de Lucas asociadas."
   ]
  },
  {
   "cell_type": "code",
   "execution_count": 5,
   "metadata": {},
   "outputs": [],
   "source": [
    "P = 1\n",
    "Q = div((1-d), 4);"
   ]
  },
  {
   "cell_type": "code",
   "execution_count": 6,
   "metadata": {},
   "outputs": [
    {
     "data": {
      "text/plain": [
       "5"
      ]
     },
     "execution_count": 6,
     "metadata": {},
     "output_type": "execute_result"
    }
   ],
   "source": [
    "Δ = P^2 - 4*Q"
   ]
  },
  {
   "cell_type": "code",
   "execution_count": 6,
   "metadata": {},
   "outputs": [
    {
     "data": {
      "text/plain": [
       "1.618033988749895"
      ]
     },
     "execution_count": 6,
     "metadata": {},
     "output_type": "execute_result"
    }
   ],
   "source": [
    "𝛼 = (P + sqrt(Δ))/2"
   ]
  },
  {
   "cell_type": "code",
   "execution_count": 8,
   "metadata": {},
   "outputs": [
    {
     "data": {
      "text/plain": [
       "lucas (generic function with 1 method)"
      ]
     },
     "execution_count": 8,
     "metadata": {},
     "output_type": "execute_result"
    }
   ],
   "source": [
    "function lucas(n, mod)\n",
    "    (U0, U1) = (0, 1)\n",
    "    for e in n\n",
    "        if e == '0'\n",
    "            (U0, U1) = (2*U0*U1 - P*U0^2, U1^2 - Q*U0^2) .% mod\n",
    "            if U0 < 0 U0 = mod + U0 end\n",
    "            if U1 < 0 U1 = mod + U1 end\n",
    "        elseif e == '1'\n",
    "            (U0, U1) = (U1^2 - Q*U0^2, P*U1^2 - 2*Q*U0*U1) .% mod\n",
    "            if U0 < 0 U0 = mod + U0 end\n",
    "            if U1 < 0 U1 = mod + U1 end\n",
    "        end\n",
    "    end\n",
    "    V = (2*U1 - P*U0) % mod\n",
    "    (U0, V)\n",
    "end"
   ]
  },
  {
   "cell_type": "markdown",
   "metadata": {},
   "source": [
    "A continación se muestran los diez primeros elementos de las sucesiones."
   ]
  },
  {
   "cell_type": "code",
   "execution_count": 9,
   "metadata": {},
   "outputs": [
    {
     "name": "stdout",
     "output_type": "stream",
     "text": [
      "U_0 = 0, V_0 = 2\n",
      "U_1 = 1, V_1 = 1\n",
      "U_2 = 1, V_2 = 3\n",
      "U_3 = 2, V_3 = 4\n",
      "U_4 = 3, V_4 = 7\n",
      "U_5 = 5, V_5 = 11\n",
      "U_6 = 8, V_6 = 18\n",
      "U_7 = 13, V_7 = 29\n",
      "U_8 = 21, V_8 = 47\n",
      "U_9 = 34, V_9 = 76\n",
      "U_10 = 55, V_10 = 123\n"
     ]
    }
   ],
   "source": [
    "for i in 0:10\n",
    "    U, V = lucas(string(i; base=2), n)\n",
    "    println(\"U_$i = $U, V_$i = $V\")\n",
    "end"
   ]
  },
  {
   "cell_type": "markdown",
   "metadata": {},
   "source": [
    "# Apartado 3\n",
    "\n",
    "### Si tu número fuera primo ¿Qué debería pasarle a los términos $V_r$, $U_r$, módulo $n$? ¿Y a los términos $V_{\\frac{r}{2}}$, $U_{\\frac{r}{2}}$?"
   ]
  },
  {
   "cell_type": "markdown",
   "metadata": {},
   "source": [
    "Al ser $n$ primo tenemos que $V_r \\equiv_r -2$ y $U_r \\equiv_r 0$.\n",
    "\n",
    "Sabemos que $U_r = U_{\\frac{r}{2}}V_{\\frac{r}{2}}$ y que $V_r = V_{\\frac{r}{2}}^2 - 2Q^{\\frac{r}{2}}$. Por tanto $V_{\\frac{r}{2}} = \\sqrt{2Q^{\\frac{r}{2}} + V_r} = \\sqrt{2Q^{\\frac{r}{2}} - 2}$ y, si $V_{\\frac{r}{2}} \\not\\equiv_n 0$, $U_{\\frac{r}{2}} \\equiv_n 0$."
   ]
  },
  {
   "cell_type": "markdown",
   "metadata": {},
   "source": [
    "# Apartado 4\n",
    "\n",
    "### Calcula los términos $V_{\\frac{r}{2}}$, $U_{\\frac{r}{2}}$, $V_r$, $U_r$, módulo $n$, de las sucesiones de Lucas con el último algoritmo iterativo."
   ]
  },
  {
   "cell_type": "code",
   "execution_count": 10,
   "metadata": {},
   "outputs": [
    {
     "data": {
      "text/plain": [
       "25851029405939727929221562380824"
      ]
     },
     "execution_count": 10,
     "metadata": {},
     "output_type": "execute_result"
    }
   ],
   "source": [
    "r = n - jacobisymbol(Δ, n)"
   ]
  },
  {
   "cell_type": "code",
   "execution_count": 11,
   "metadata": {},
   "outputs": [
    {
     "data": {
      "text/plain": [
       "(16092548680505634969133601353658, 0)"
      ]
     },
     "execution_count": 11,
     "metadata": {},
     "output_type": "execute_result"
    }
   ],
   "source": [
    "U_r_2, V_r_2 = lucas(string(div(r, 2), base=2) , n)"
   ]
  },
  {
   "cell_type": "code",
   "execution_count": 12,
   "metadata": {},
   "outputs": [
    {
     "data": {
      "text/plain": [
       "(0, 25851029405939727929221562380821)"
      ]
     },
     "execution_count": 12,
     "metadata": {},
     "output_type": "execute_result"
    }
   ],
   "source": [
    "U_r, V_r = lucas(string(r, base=2), n)"
   ]
  },
  {
   "cell_type": "markdown",
   "metadata": {},
   "source": [
    "# Apartado 5\n",
    "\n",
    "### ¿Tu n verifica el TPF para el entero cuadrático $\\alpha$? ¿Qué deduces sobre la primalidad de tu n?"
   ]
  },
  {
   "cell_type": "markdown",
   "metadata": {},
   "source": [
    "Vemos que $V_r \\equiv_n -2$"
   ]
  },
  {
   "cell_type": "code",
   "execution_count": 14,
   "metadata": {},
   "outputs": [
    {
     "data": {
      "text/plain": [
       "0"
      ]
     },
     "execution_count": 14,
     "metadata": {},
     "output_type": "execute_result"
    }
   ],
   "source": [
    "(V_r + 2) % n"
   ]
  },
  {
   "cell_type": "markdown",
   "metadata": {},
   "source": [
    "Como $U_r \\equiv_n 0$ se cumple el TPF y $n$ es un posible primo."
   ]
  }
 ],
 "metadata": {
  "kernelspec": {
   "display_name": "Julia 1.0.3 (4 threads)",
   "language": "julia",
   "name": "julia-1.0k"
  },
  "language_info": {
   "file_extension": ".jl",
   "mimetype": "application/julia",
   "name": "julia",
   "version": "1.0.3"
  }
 },
 "nbformat": 4,
 "nbformat_minor": 2
}
