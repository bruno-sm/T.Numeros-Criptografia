{
 "cells": [
  {
   "cell_type": "code",
   "execution_count": 5,
   "metadata": {},
   "outputs": [],
   "source": [
    "using Primes\n",
    "\n",
    "n = BigInt(25851029405939727929221562380823);"
   ]
  },
  {
   "cell_type": "code",
   "execution_count": 3,
   "metadata": {},
   "outputs": [
    {
     "data": {
      "text/plain": [
       "3-element Array{Int64,1}:\n",
       " 2\n",
       " 4\n",
       " 8"
      ]
     },
     "execution_count": 3,
     "metadata": {},
     "output_type": "execute_result"
    }
   ],
   "source": [
    "factores_pot_2 = [2^ex for ex in 1:factor(n+1)[2]]"
   ]
  },
  {
   "cell_type": "markdown",
   "metadata": {},
   "source": [
    "El único cofactor que puede ser impar es el del $8$."
   ]
  },
  {
   "cell_type": "code",
   "execution_count": 6,
   "metadata": {},
   "outputs": [
    {
     "data": {
      "text/plain": [
       "3231378675742465991152695297603"
      ]
     },
     "execution_count": 6,
     "metadata": {},
     "output_type": "execute_result"
    }
   ],
   "source": [
    "n1 = div(n+1, 8)"
   ]
  },
  {
   "cell_type": "markdown",
   "metadata": {},
   "source": [
    "# Apartado 1\n",
    "\n",
    "### Pasa el test de Miller-Rabin para varias bases y si fuera necesario el de Solovay-Strassen para ver si n1 es compuesto."
   ]
  },
  {
   "cell_type": "code",
   "execution_count": 7,
   "metadata": {},
   "outputs": [],
   "source": [
    "function miller_rabin_rec(a, acu, n, var_name=\"n\")\n",
    "    if acu % 2 == 0\n",
    "        # Si n es par aplicamos Miller-Rabin a n/2, de esta forma delegamos a la llamada que calcula el primer elemento\n",
    "        # de la sucesión el cálculo del mínimo m tal que n = 2^k * m.\n",
    "        # También delegamos a esta llamada la información sobre la iteración en la que estamos.\n",
    "        i, m = miller_rabin_rec(a, BigInt(acu/2), n, var_name)\n",
    "    else\n",
    "        # Si n no es impar se establecen los valores de la primera iteración\n",
    "        i = 0 # Número de iteración\n",
    "        m = acu # Mínimo m tal que n - 1 = 2^k * m\n",
    "    end\n",
    "    \n",
    "    println(\"$a^$(2^i)m = $(powermod(a, (2^i)*m, n)) mod $var_name\")\n",
    "    return i + 1, m\n",
    "end\n",
    "\n",
    "\n",
    "function miller_rabin(a, n; var_name=\"n\")\n",
    "    # Llamamos a la fución con n-1 para que se cumpla n - 1 = 2^k * m\n",
    "    return miller_rabin_rec(a, n-1, n, var_name)\n",
    "    end;"
   ]
  },
  {
   "cell_type": "code",
   "execution_count": 8,
   "metadata": {},
   "outputs": [
    {
     "name": "stdout",
     "output_type": "stream",
     "text": [
      "2^1m = 1485140714446976422519866021041 mod n1\n",
      "2^2m = 932835830145814621440467477605 mod n1\n"
     ]
    }
   ],
   "source": [
    "miller_rabin(2, n1, var_name=\"n1\");"
   ]
  },
  {
   "cell_type": "markdown",
   "metadata": {},
   "source": [
    "Basta con fijarse en que la sucesión para $a=2$ no termina en $1$, por tanto $2$ es un certificado de composición para $n1$."
   ]
  },
  {
   "cell_type": "markdown",
   "metadata": {},
   "source": [
    "# Apartado 2\n",
    "\n",
    "### En caso que hayas encontrado un certificado de composición para n1, aplica el método $\\rho$ de Pollard y/o el cfrac para encontrar factores de ambos."
   ]
  },
  {
   "cell_type": "code",
   "execution_count": 9,
   "metadata": {},
   "outputs": [],
   "source": [
    "function pollard(n, t = 100, f = x -> x^2 + 1)\n",
    "    x = 1\n",
    "    y = x\n",
    "    i = 0\n",
    "    \n",
    "    #println(\"Paso | x | y | mcd\")\n",
    "    #println(\"$i | $x | $y | -\")\n",
    "    \n",
    "    while i < t\n",
    "        i += 1\n",
    "        x = f(x) % n\n",
    "        y = f(f(y)) % n\n",
    "        g = gcd(x - y, n)\n",
    "        \n",
    "        #println(\"$i | $x | $y | $g\")\n",
    "        \n",
    "        if 1 < g && g < n\n",
    "            return g, div(n, g)\n",
    "        end\n",
    "    end\n",
    "    \n",
    "    println(\"No hay divisores con $t iteraciones.\")\n",
    "end;"
   ]
  },
  {
   "cell_type": "code",
   "execution_count": 10,
   "metadata": {},
   "outputs": [
    {
     "data": {
      "text/plain": [
       "(3, 1077126225247488663717565099201)"
      ]
     },
     "execution_count": 10,
     "metadata": {},
     "output_type": "execute_result"
    }
   ],
   "source": [
    "pollard(n1)"
   ]
  },
  {
   "cell_type": "markdown",
   "metadata": {},
   "source": [
    "# Apartado 3\n",
    "\n",
    "### Para factores primos menores que 10.000 puedes usar la lista de la página web para certificar su primalidad. Si los factores son mayores y no has demostrado que sean compuestos, encuentra una s.L. para certificar su primalidad."
   ]
  },
  {
   "cell_type": "markdown",
   "metadata": {},
   "source": [
    "Descomponemos $n1$, el cual sabemos que es compuesto."
   ]
  },
  {
   "cell_type": "code",
   "execution_count": 11,
   "metadata": {
    "scrolled": true
   },
   "outputs": [
    {
     "data": {
      "text/plain": [
       "(3, 1077126225247488663717565099201)"
      ]
     },
     "execution_count": 11,
     "metadata": {},
     "output_type": "execute_result"
    }
   ],
   "source": [
    "f1, f2 = pollard(n1)"
   ]
  },
  {
   "cell_type": "markdown",
   "metadata": {},
   "source": [
    "Dado que $f_1=3$ es primo, intentamos descomponer $f_2$."
   ]
  },
  {
   "cell_type": "code",
   "execution_count": 48,
   "metadata": {},
   "outputs": [
    {
     "name": "stdout",
     "output_type": "stream",
     "text": [
      "No hay divisores con 100 iteraciones.\n"
     ]
    }
   ],
   "source": [
    "pollard(f2)"
   ]
  },
  {
   "cell_type": "markdown",
   "metadata": {},
   "source": [
    "Dado que no se ha podido descomponer comprobamos si es un posible primo."
   ]
  },
  {
   "cell_type": "code",
   "execution_count": 33,
   "metadata": {},
   "outputs": [
    {
     "name": "stdout",
     "output_type": "stream",
     "text": [
      "2^1m = 582602755878034070823404469643 mod n1\n",
      "2^2m = 668259076182893834409451532818 mod n1\n",
      "2^4m = 838818130839183969075635682806 mod n1\n",
      "2^8m = 326668062855906550766650306145 mod n1\n",
      "2^16m = 293945926148165482217089327868 mod n1\n",
      "2^32m = 294464354113976351607079186896 mod n1\n",
      "2^64m = 700810738728178350210920298809 mod n1\n"
     ]
    }
   ],
   "source": [
    "miller_rabin(2, f2);"
   ]
  },
  {
   "cell_type": "markdown",
   "metadata": {},
   "source": [
    "El test de Miller-Rabin nos dice que es compuesto, por tanto lo que tenemos que hacer es darle suficientes iteraciones al algoritmo $\\rho$ de Pollard."
   ]
  },
  {
   "cell_type": "code",
   "execution_count": 12,
   "metadata": {},
   "outputs": [
    {
     "data": {
      "text/plain": [
       "(12444073, 86557369540301528584537)"
      ]
     },
     "execution_count": 12,
     "metadata": {},
     "output_type": "execute_result"
    }
   ],
   "source": [
    "f21, f22 = pollard(f2, 10000)"
   ]
  },
  {
   "cell_type": "markdown",
   "metadata": {},
   "source": [
    "Ahora vemos si $f_{21}$ es compuesto mediante Miller-Rabin."
   ]
  },
  {
   "cell_type": "code",
   "execution_count": 42,
   "metadata": {},
   "outputs": [
    {
     "name": "stdout",
     "output_type": "stream",
     "text": [
      "Miller-Rabin para a = 2:\n",
      "\n",
      "2^1m = 12444072 mod f21\n",
      "2^2m = 1 mod f21\n",
      "2^4m = 1 mod f21\n",
      "2^8m = 1 mod f21\n",
      "\n",
      "m = 1555509\n",
      "\n",
      "\n",
      "Miller-Rabin para a = 3:\n",
      "\n",
      "3^1m = 12444072 mod f21\n",
      "3^2m = 1 mod f21\n",
      "3^4m = 1 mod f21\n",
      "3^8m = 1 mod f21\n",
      "\n",
      "m = 1555509\n",
      "\n",
      "\n",
      "Miller-Rabin para a = 5:\n",
      "\n",
      "5^1m = 2134970 mod f21\n",
      "5^2m = 7178022 mod f21\n",
      "5^4m = 12444072 mod f21\n",
      "5^8m = 1 mod f21\n",
      "\n",
      "m = 1555509\n",
      "\n",
      "\n",
      "Miller-Rabin para a = 7:\n",
      "\n",
      "7^1m = 1826087 mod f21\n",
      "7^2m = 5266051 mod f21\n",
      "7^4m = 12444072 mod f21\n",
      "7^8m = 1 mod f21\n",
      "\n",
      "m = 1555509\n",
      "\n",
      "\n",
      "Miller-Rabin para a = 11:\n",
      "\n",
      "11^1m = 7178022 mod f21\n",
      "11^2m = 12444072 mod f21\n",
      "11^4m = 1 mod f21\n",
      "11^8m = 1 mod f21\n",
      "\n",
      "m = 1555509\n",
      "\n",
      "\n"
     ]
    }
   ],
   "source": [
    "for a in [2, 3, 5, 7, 11]\n",
    "    println(\"Miller-Rabin para a = $a:\\n\")\n",
    "    i, m = miller_rabin(a, f21, var_name=\"f21\")\n",
    "    println(\"\\nm = $m\\n\\n\")\n",
    "end"
   ]
  },
  {
   "cell_type": "markdown",
   "metadata": {},
   "source": [
    "Teninedo en cuenta que $12444072 \\equiv_{f_{21}} -1$, $f_{21}$ pasa el test de Miller-Rabin para cinco bases y es muy probable que sea primo. Buscamos un Lucas-Certificado."
   ]
  },
  {
   "cell_type": "markdown",
   "metadata": {},
   "source": [
    "Primero factorizamos $f_{21}+1$."
   ]
  },
  {
   "cell_type": "code",
   "execution_count": 56,
   "metadata": {},
   "outputs": [
    {
     "data": {
      "text/plain": [
       "(2, 6222037)"
      ]
     },
     "execution_count": 56,
     "metadata": {},
     "output_type": "execute_result"
    }
   ],
   "source": [
    "pollard(f21+1)"
   ]
  },
  {
   "cell_type": "code",
   "execution_count": 52,
   "metadata": {},
   "outputs": [
    {
     "data": {
      "text/plain": [
       "(29, 214553)"
      ]
     },
     "execution_count": 52,
     "metadata": {},
     "output_type": "execute_result"
    }
   ],
   "source": [
    "pollard(6222037)"
   ]
  },
  {
   "cell_type": "code",
   "execution_count": 60,
   "metadata": {},
   "outputs": [
    {
     "data": {
      "text/plain": [
       "(41, 5233)"
      ]
     },
     "execution_count": 60,
     "metadata": {},
     "output_type": "execute_result"
    }
   ],
   "source": [
    "pollard(214553)"
   ]
  },
  {
   "cell_type": "markdown",
   "metadata": {},
   "source": [
    "Por tanto $f_{21}+1 = 2 \\cdot 29 \\cdot 41 \\cdot 5233$"
   ]
  },
  {
   "cell_type": "markdown",
   "metadata": {},
   "source": [
    "Intentamos encontrar un valor de $Q$ para el cual cada término $U_e$ de la sucesión de Lucas sea distinto de $0$, con $e = \\frac{n+1}{d}$ y $d$ un factor de $n+1$."
   ]
  },
  {
   "cell_type": "code",
   "execution_count": 34,
   "metadata": {},
   "outputs": [],
   "source": [
    "function lucas(n_, mod)\n",
    "    n = string(n_; base=2)\n",
    "    (U0, U1) = (0, 1)\n",
    "    for e in n\n",
    "        if e == '0'\n",
    "            (U0, U1) = (2*U0*U1 - P*U0^2, U1^2 - Q*U0^2) .% mod\n",
    "            if U0 < 0 U0 = mod + U0 end\n",
    "            if U1 < 0 U1 = mod + U1 end\n",
    "        elseif e == '1'\n",
    "            (U0, U1) = (U1^2 - Q*U0^2, P*U1^2 - 2*Q*U0*U1) .% mod\n",
    "            if U0 < 0 U0 = mod + U0 end\n",
    "            if U1 < 0 U1 = mod + U1 end\n",
    "        end\n",
    "    end\n",
    "    V = (2*U1 - P*U0) % mod\n",
    "    (U0, V)\n",
    "    end;"
   ]
  },
  {
   "cell_type": "code",
   "execution_count": 44,
   "metadata": {},
   "outputs": [
    {
     "data": {
      "text/plain": [
       "10"
      ]
     },
     "execution_count": 44,
     "metadata": {},
     "output_type": "execute_result"
    }
   ],
   "source": [
    "P = 1\n",
    "Q = 2 \n",
    "while true\n",
    "    lucas(f21+1, f21)[1] == 0 &&\n",
    "    lucas(div(f21+1, 2), f21)[1] != 0 &&\n",
    "    lucas(div(f21+1, 29), f21)[1] != 0 &&\n",
    "    lucas(div(f21+1, 41), f21)[1] != 0 &&\n",
    "    lucas(div(f21+1, 5233), f21)[1] != 0 &&\n",
    "    return Q\n",
    "    Q += 1\n",
    "end"
   ]
  },
  {
   "cell_type": "markdown",
   "metadata": {},
   "source": [
    "Vemos que efectivamente con $P=1$, $Q=10$ se cumple esto"
   ]
  },
  {
   "cell_type": "code",
   "execution_count": 45,
   "metadata": {},
   "outputs": [
    {
     "name": "stdout",
     "output_type": "stream",
     "text": [
      "U_{f21+1} = 0\n",
      "U_{(f21+1)/2} = 11434288\n",
      "U_{(f21+1)/29} = 11515628\n",
      "U_{(f21+1)/41} = 7867086\n",
      "U_{(f21+1)/5233} = 7040827\n"
     ]
    }
   ],
   "source": [
    "println(\"U_{f21+1} = $(lucas(f21+1, f21)[1])\")\n",
    "println(\"U_{(f21+1)/2} = $(lucas(div(f21+1, 2), f21)[1])\")\n",
    "println(\"U_{(f21+1)/29} = $(lucas(div(f21+1, 29), f21)[1])\")\n",
    "println(\"U_{(f21+1)/41} = $(lucas(div(f21+1, 41), f21)[1])\")\n",
    "println(\"U_{(f21+1)/5233} = $(lucas(div(f21+1, 5233), f21)[1])\")"
   ]
  },
  {
   "cell_type": "markdown",
   "metadata": {},
   "source": [
    "Certificamos así que $f_{21} = 12444073$ es primo."
   ]
  },
  {
   "cell_type": "markdown",
   "metadata": {},
   "source": [
    "Solo nos queda analizar $f_{22}$. Comenzaremos pasándole el test de Miller-Rabin."
   ]
  },
  {
   "cell_type": "code",
   "execution_count": 47,
   "metadata": {},
   "outputs": [
    {
     "name": "stdout",
     "output_type": "stream",
     "text": [
      "Miller-Rabin para a = 2:\n",
      "\n",
      "2^1m = 86557369540301528584536 mod f22\n",
      "2^2m = 1 mod f22\n",
      "2^4m = 1 mod f22\n",
      "2^8m = 1 mod f22\n",
      "\n",
      "m = 10819671192537691073067\n",
      "\n",
      "\n",
      "Miller-Rabin para a = 3:\n",
      "\n",
      "3^1m = 1 mod f22\n",
      "3^2m = 1 mod f22\n",
      "3^4m = 1 mod f22\n",
      "3^8m = 1 mod f22\n",
      "\n",
      "m = 10819671192537691073067\n",
      "\n",
      "\n",
      "Miller-Rabin para a = 5:\n",
      "\n",
      "5^1m = 9336927384376328826521 mod f22\n",
      "5^2m = 60232763493631174304738 mod f22\n",
      "5^4m = 86557369540301528584536 mod f22\n",
      "5^8m = 1 mod f22\n",
      "\n",
      "m = 10819671192537691073067\n",
      "\n",
      "\n",
      "Miller-Rabin para a = 7:\n",
      "\n",
      "7^1m = 9336929926571709100219 mod f22\n",
      "7^2m = 26324606046670354279799 mod f22\n",
      "7^4m = 86557369540301528584536 mod f22\n",
      "7^8m = 1 mod f22\n",
      "\n",
      "m = 10819671192537691073067\n",
      "\n",
      "\n",
      "Miller-Rabin para a = 11:\n",
      "\n",
      "11^1m = 9336929926571709100219 mod f22\n",
      "11^2m = 26324606046670354279799 mod f22\n",
      "11^4m = 86557369540301528584536 mod f22\n",
      "11^8m = 1 mod f22\n",
      "\n",
      "m = 10819671192537691073067\n",
      "\n",
      "\n"
     ]
    }
   ],
   "source": [
    "for a in [2, 3, 5, 7, 11]\n",
    "    println(\"Miller-Rabin para a = $a:\\n\")\n",
    "    i, m = miller_rabin(a, f22, var_name=\"f22\")\n",
    "    println(\"\\nm = $m\\n\\n\")\n",
    "end"
   ]
  },
  {
   "cell_type": "markdown",
   "metadata": {},
   "source": [
    "Teninedo en cuenta que $86557369540301528584536 \\equiv_{f_{22}} -1$, $f_{22}$ pasa el test de Miller-Rabin para cinco bases y es muy probable que sea primo. Buscamos un Lucas-Certificado."
   ]
  },
  {
   "cell_type": "markdown",
   "metadata": {},
   "source": [
    "Primero factorizamos $f_{22} + 1$."
   ]
  },
  {
   "cell_type": "code",
   "execution_count": 49,
   "metadata": {},
   "outputs": [
    {
     "data": {
      "text/plain": [
       "(2, 43278684770150764292269)"
      ]
     },
     "execution_count": 49,
     "metadata": {},
     "output_type": "execute_result"
    }
   ],
   "source": [
    "pollard(f22+1)"
   ]
  },
  {
   "cell_type": "code",
   "execution_count": 51,
   "metadata": {},
   "outputs": [
    {
     "data": {
      "text/plain": [
       "(227, 190654998987448300847)"
      ]
     },
     "execution_count": 51,
     "metadata": {},
     "output_type": "execute_result"
    }
   ],
   "source": [
    "pollard(43278684770150764292269, 1000)"
   ]
  },
  {
   "cell_type": "code",
   "execution_count": 57,
   "metadata": {},
   "outputs": [
    {
     "data": {
      "text/plain": [
       "(349411, 545646814174277)"
      ]
     },
     "execution_count": 57,
     "metadata": {},
     "output_type": "execute_result"
    }
   ],
   "source": [
    "pollard(190654998987448300847, 100000000)"
   ]
  },
  {
   "cell_type": "code",
   "execution_count": 71,
   "metadata": {},
   "outputs": [
    {
     "name": "stdout",
     "output_type": "stream",
     "text": [
      "No hay divisores con 100000000 iteraciones.\n"
     ]
    }
   ],
   "source": [
    "pollard(349411, 100000000)"
   ]
  },
  {
   "cell_type": "code",
   "execution_count": 67,
   "metadata": {},
   "outputs": [
    {
     "data": {
      "text/plain": [
       "(2786587, 195811871)"
      ]
     },
     "execution_count": 67,
     "metadata": {},
     "output_type": "execute_result"
    }
   ],
   "source": [
    "pollard(545646814174277, 1000000)"
   ]
  },
  {
   "cell_type": "code",
   "execution_count": 74,
   "metadata": {},
   "outputs": [
    {
     "name": "stdout",
     "output_type": "stream",
     "text": [
      "No hay divisores con 100000000 iteraciones.\n"
     ]
    }
   ],
   "source": [
    "pollard(2786587, 100000000)"
   ]
  },
  {
   "cell_type": "code",
   "execution_count": 75,
   "metadata": {},
   "outputs": [
    {
     "name": "stdout",
     "output_type": "stream",
     "text": [
      "No hay divisores con 100000000 iteraciones.\n"
     ]
    }
   ],
   "source": [
    "pollard(195811871, 100000000)"
   ]
  },
  {
   "cell_type": "markdown",
   "metadata": {},
   "source": [
    "Por acortar el ejercicio veamos que $349411$, $2786587$ y $195811871$ son primos mediante una función externa. El método para comprobarlo, sin embargo, sería el mismo que estamos aplicando a $f_{22}$, i.e. factorizamos $n+1$ y buscamos unos $P$ y $Q$ para que los términos $U_{\\frac{n+1}{d}}$, con d un factor de $n+1$, sean distintos de 0."
   ]
  },
  {
   "cell_type": "code",
   "execution_count": 76,
   "metadata": {},
   "outputs": [
    {
     "data": {
      "text/plain": [
       "true"
      ]
     },
     "execution_count": 76,
     "metadata": {},
     "output_type": "execute_result"
    }
   ],
   "source": [
    "isprime(349411) && isprime(2786587) && isprime(195811871)"
   ]
  },
  {
   "cell_type": "markdown",
   "metadata": {},
   "source": [
    "Por tanto tenemos que $f_{22}+1 = 2 \\cdot 227 \\cdot 349411 \\cdot 2786587 \\cdot 195811871$"
   ]
  },
  {
   "cell_type": "markdown",
   "metadata": {},
   "source": [
    "Obtenemos ahora un Lucas-Certificado."
   ]
  },
  {
   "cell_type": "code",
   "execution_count": 78,
   "metadata": {},
   "outputs": [
    {
     "data": {
      "text/plain": [
       "20"
      ]
     },
     "execution_count": 78,
     "metadata": {},
     "output_type": "execute_result"
    }
   ],
   "source": [
    "P = 1\n",
    "Q = 2 \n",
    "while true\n",
    "    lucas(f22+1, f22)[1] == 0 &&\n",
    "    lucas(div(f22+1, 2), f22)[1] != 0 &&\n",
    "    lucas(div(f22+1, 227), f22)[1] != 0 &&\n",
    "    lucas(div(f22+1, 349411), f22)[1] != 0 &&\n",
    "    lucas(div(f22+1, 2786587), f22)[1] != 0 &&\n",
    "    lucas(div(f22+1, 195811871), f22)[1] != 0 &&\n",
    "    return Q\n",
    "    Q += 1\n",
    "end"
   ]
  },
  {
   "cell_type": "markdown",
   "metadata": {},
   "source": [
    "Tenemos que con $P = 1$, $Q = 20$ se verifica que $f_{22} = 86557369540301528584537$ es primo.\n",
    "\n",
    "Finalmente tenemos que $n1 = 3 \\cdot 12444073 \\cdot 86557369540301528584537$"
   ]
  },
  {
   "cell_type": "markdown",
   "metadata": {},
   "source": [
    "# Apartado 4\n",
    "\n",
    "### Aplica lo anterior hasta encontrar la factorización en primos de n+1."
   ]
  },
  {
   "cell_type": "markdown",
   "metadata": {},
   "source": [
    "Como $n1 = \\frac{n+1}{8}$, se tiene que $n+1 = 8n1 = 2^3 \\cdot 3 \\cdot 12444073 \\cdot 86557369540301528584537$"
   ]
  },
  {
   "cell_type": "markdown",
   "metadata": {},
   "source": [
    "Comprobamos que el resultado efectivamente es correcto."
   ]
  },
  {
   "cell_type": "code",
   "execution_count": 81,
   "metadata": {},
   "outputs": [
    {
     "data": {
      "text/plain": [
       "2^3 ⋅ 3 ⋅ 12444073 ⋅ 86557369540301528584537"
      ]
     },
     "execution_count": 81,
     "metadata": {},
     "output_type": "execute_result"
    }
   ],
   "source": [
    "factor(n+1)"
   ]
  },
  {
   "cell_type": "markdown",
   "metadata": {},
   "source": [
    "# Apartado 5\n",
    "\n",
    "### Encuentra una s.L. para certificar la primalidad de n."
   ]
  },
  {
   "cell_type": "markdown",
   "metadata": {},
   "source": [
    "Conociendo ya los factores de $n+1$ todo lo que queda es encontrar el Lucas-Certificado."
   ]
  },
  {
   "cell_type": "code",
   "execution_count": 82,
   "metadata": {
    "scrolled": true
   },
   "outputs": [
    {
     "data": {
      "text/plain": [
       "7"
      ]
     },
     "execution_count": 82,
     "metadata": {},
     "output_type": "execute_result"
    }
   ],
   "source": [
    "P = 1\n",
    "Q = 2 \n",
    "while true\n",
    "    lucas(n+1, n)[1] == 0 &&\n",
    "    lucas(div(n+1, 2), n)[1] != 0 &&\n",
    "    lucas(div(n+1, 3), n)[1] != 0 &&\n",
    "    lucas(div(n+1, 12444073), n)[1] != 0 &&\n",
    "    lucas(div(n+1, 86557369540301528584537), n)[1] != 0 &&\n",
    "    return Q\n",
    "    Q += 1\n",
    "end"
   ]
  },
  {
   "cell_type": "markdown",
   "metadata": {},
   "source": [
    "Por tanto con $P=1$, $Q=7$ demostramos que $n$ es primo."
   ]
  }
 ],
 "metadata": {
  "kernelspec": {
   "display_name": "Julia 1.0.3 (4 threads)",
   "language": "julia",
   "name": "julia-1.0k"
  },
  "language_info": {
   "file_extension": ".jl",
   "mimetype": "application/julia",
   "name": "julia",
   "version": "1.0.3"
  }
 },
 "nbformat": 4,
 "nbformat_minor": 2
}
