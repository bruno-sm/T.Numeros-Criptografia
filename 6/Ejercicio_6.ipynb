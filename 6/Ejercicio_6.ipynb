{
 "cells": [
  {
   "cell_type": "code",
   "execution_count": 1,
   "metadata": {},
   "outputs": [],
   "source": [
    "P = 3;\n",
    "Q = -1;\n",
    "Δ = P^2 - 4*Q;\n",
    "n = 71304923;"
   ]
  },
  {
   "cell_type": "markdown",
   "metadata": {},
   "source": [
    "# Apartado 1\n",
    "\n",
    "### Define un entero cuadrático $\\alpha$ y las sucesiones de Lucas asociadas."
   ]
  },
  {
   "cell_type": "markdown",
   "metadata": {},
   "source": [
    "Definimos el entero cuadrático $\\alpha = \\frac{P + \\sqrt{\\Delta}}{2}$."
   ]
  },
  {
   "cell_type": "code",
   "execution_count": 2,
   "metadata": {},
   "outputs": [
    {
     "data": {
      "text/plain": [
       "3.302775637731995"
      ]
     },
     "execution_count": 2,
     "metadata": {},
     "output_type": "execute_result"
    }
   ],
   "source": [
    "ɑ = (P + sqrt(Δ))/2"
   ]
  },
  {
   "cell_type": "markdown",
   "metadata": {},
   "source": [
    "Calculamos $U_n$ y $V_n$"
   ]
  },
  {
   "cell_type": "code",
   "execution_count": 3,
   "metadata": {},
   "outputs": [],
   "source": [
    "function V(n, mod=Inf)\n",
    "    v = Dict(0 => 2, 1 => 1)\n",
    "    \n",
    "    for i in 2:n\n",
    "        v[i] = (P*v[i-1] - Q*v[i-2]) % mod\n",
    "    end\n",
    "    \n",
    "    return v[n]\n",
    "end;\n",
    "\n",
    "function U(n, mod=Inf)\n",
    "    u = Dict(0 => 0, 1 => 1)\n",
    "    \n",
    "    for i in 2:n\n",
    "        u[i] = (P*u[i-1] - Q*u[i-2]) % mod\n",
    "    end\n",
    "    \n",
    "    return u[n]\n",
    "end;"
   ]
  },
  {
   "cell_type": "markdown",
   "metadata": {},
   "source": [
    "A continación se muestran los diez primeros elementos de las sucesiones."
   ]
  },
  {
   "cell_type": "code",
   "execution_count": 4,
   "metadata": {},
   "outputs": [
    {
     "name": "stdout",
     "output_type": "stream",
     "text": [
      "V(0) = 2, U(0) = 0\n",
      "V(1) = 1, U(1) = 1\n",
      "V(2) = 5, U(2) = 3\n",
      "V(3) = 16, U(3) = 10\n",
      "V(4) = 53, U(4) = 33\n",
      "V(5) = 175, U(5) = 109\n",
      "V(6) = 578, U(6) = 360\n",
      "V(7) = 1909, U(7) = 1189\n",
      "V(8) = 6305, U(8) = 3927\n",
      "V(9) = 20824, U(9) = 12970\n",
      "V(10) = 68777, U(10) = 42837\n"
     ]
    }
   ],
   "source": [
    "for n in 0:10\n",
    "    println(\"V($n) = $(V(n)), U($n) = $(U(n))\")\n",
    "end"
   ]
  },
  {
   "cell_type": "markdown",
   "metadata": {},
   "source": [
    "# Apartado 2\n",
    "\n",
    "### Calcula a mano el símbolo de Jacobi $(\\frac{\\Delta}{n})$, define $r = n - (\\frac{\\Delta}{n})$. Si tu n fuera primo ¿Qué debería de pasarle a $\\alpha^r$? ¿Y a los términos $V_r$, $U_r$?"
   ]
  },
  {
   "cell_type": "markdown",
   "metadata": {},
   "source": [
    "Como $\\Delta > n$ podemos usar que $(\\frac{\\Delta}{n}) = (\\frac{r}{n})$ con $\\Delta \\equiv_n r$."
   ]
  },
  {
   "cell_type": "code",
   "execution_count": 5,
   "metadata": {},
   "outputs": [
    {
     "data": {
      "text/plain": [
       "13"
      ]
     },
     "execution_count": 5,
     "metadata": {},
     "output_type": "execute_result"
    }
   ],
   "source": [
    "Δ % n"
   ]
  },
  {
   "cell_type": "markdown",
   "metadata": {},
   "source": [
    "$(\\frac{\\Delta}{n}) = (\\frac{13}{n})$"
   ]
  },
  {
   "cell_type": "code",
   "execution_count": 6,
   "metadata": {},
   "outputs": [
    {
     "data": {
      "text/plain": [
       "1"
      ]
     },
     "execution_count": 6,
     "metadata": {},
     "output_type": "execute_result"
    }
   ],
   "source": [
    "13 % 4"
   ]
  },
  {
   "cell_type": "markdown",
   "metadata": {},
   "source": [
    "Como $13 \\equiv_4 1$ tenemos $(\\frac{13}{n}) = (\\frac{n}{13})$"
   ]
  },
  {
   "cell_type": "code",
   "execution_count": 7,
   "metadata": {},
   "outputs": [
    {
     "data": {
      "text/plain": [
       "1"
      ]
     },
     "execution_count": 7,
     "metadata": {},
     "output_type": "execute_result"
    }
   ],
   "source": [
    "n % 13"
   ]
  },
  {
   "cell_type": "markdown",
   "metadata": {},
   "source": [
    "Finalmente, como $n > 13$, $n \\equiv_{13} 1$ y $(\\frac{1}{r}) = (\\frac{r}{1}) = 1$ tenemos\n",
    "\n",
    "$$(\\frac{n}{13}) = (\\frac{1}{13}) = (\\frac{13}{1}) = 1$$"
   ]
  },
  {
   "cell_type": "markdown",
   "metadata": {},
   "source": [
    "Comprobamos el resultado"
   ]
  },
  {
   "cell_type": "code",
   "execution_count": 8,
   "metadata": {},
   "outputs": [
    {
     "data": {
      "text/plain": [
       "1"
      ]
     },
     "execution_count": 8,
     "metadata": {},
     "output_type": "execute_result"
    }
   ],
   "source": [
    "using Combinatorics\n",
    "jacobisymbol(Δ, n)"
   ]
  },
  {
   "cell_type": "markdown",
   "metadata": {},
   "source": [
    "Calculamos $r = n - (\\frac{\\Delta}{n})$"
   ]
  },
  {
   "cell_type": "code",
   "execution_count": 9,
   "metadata": {},
   "outputs": [
    {
     "data": {
      "text/plain": [
       "71304922"
      ]
     },
     "execution_count": 9,
     "metadata": {},
     "output_type": "execute_result"
    }
   ],
   "source": [
    "r = n - 1"
   ]
  },
  {
   "cell_type": "markdown",
   "metadata": {},
   "source": [
    "En caso de que $n$ fuese primo, según el TPF tendríamos que $\\alpha^r \\equiv_n 1$, $U_r \\equiv_n 0$ y $V_r \\equiv_n 2$, ya que $(\\frac{\\Delta}{n}) = 1$."
   ]
  },
  {
   "cell_type": "markdown",
   "metadata": {},
   "source": [
    "# Apartado 3\n",
    "\n",
    "### Calcula los términos $V_r$, $U_r$, módulo n, de las sucesiones de Lucas con el algoritmo de izquierda a derecha."
   ]
  },
  {
   "cell_type": "code",
   "execution_count": 10,
   "metadata": {},
   "outputs": [
    {
     "data": {
      "text/plain": [
       "2"
      ]
     },
     "execution_count": 10,
     "metadata": {},
     "output_type": "execute_result"
    }
   ],
   "source": [
    "V(r, n)"
   ]
  },
  {
   "cell_type": "code",
   "execution_count": 11,
   "metadata": {},
   "outputs": [
    {
     "data": {
      "text/plain": [
       "0"
      ]
     },
     "execution_count": 11,
     "metadata": {},
     "output_type": "execute_result"
    }
   ],
   "source": [
    "U(r, n)"
   ]
  },
  {
   "cell_type": "markdown",
   "metadata": {},
   "source": [
    "# Apartado 4\n",
    "\n",
    "### ¿Se verifica el TPF para el entero cuadrático para tu n? ¿Qué deduces sobre la primalidad de tu n?"
   ]
  },
  {
   "cell_type": "markdown",
   "metadata": {},
   "source": [
    "Se verifica el TPF, ya que $U_{p-(\\frac{\\Delta}{n})} \\equiv_n 0$ y $V_{p-(\\frac{\\Delta}{n})} \\equiv_n 2$ siendo $(\\frac{\\Delta}{n}) = 1$. Por lo tanto $n$ es un posible primo."
   ]
  }
 ],
 "metadata": {
  "kernelspec": {
   "display_name": "Julia 1.0.3 (4 threads)",
   "language": "julia",
   "name": "julia-1.0k"
  },
  "language_info": {
   "file_extension": ".jl",
   "mimetype": "application/julia",
   "name": "julia",
   "version": "1.0.3"
  }
 },
 "nbformat": 4,
 "nbformat_minor": 2
}
