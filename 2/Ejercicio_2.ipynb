{
 "cells": [
  {
   "cell_type": "markdown",
   "metadata": {},
   "source": [
    "# Apartado 1\n",
    "\n",
    "### Mientras n sea múltiplo de 2, 3, 5, 7 u 11 le sumas uno. De forma que tu nuevo n no tenga esos divisores primos."
   ]
  },
  {
   "cell_type": "markdown",
   "metadata": {},
   "source": [
    "Sabemos por el ejercicio anterior que $n = 71304917$"
   ]
  },
  {
   "cell_type": "code",
   "execution_count": 1,
   "metadata": {},
   "outputs": [],
   "source": [
    "n = 71304917;"
   ]
  },
  {
   "cell_type": "markdown",
   "metadata": {},
   "source": [
    "# Apartado 2\n",
    "\n",
    "### Usando el algoritmo manual, calcula el símbolo de Jacobi $(\\frac{p}{n})$, para los 5 primeros primos."
   ]
  },
  {
   "cell_type": "code",
   "execution_count": 2,
   "metadata": {},
   "outputs": [
    {
     "name": "stdout",
     "output_type": "stream",
     "text": [
      "(a/n): (2/71304917)\n",
      "(a/n): (1.0/71304917)\n",
      "(a/n): (71304917/1.0)\n",
      "(2/n) = -1\n",
      "(a/n): (3/71304917)\n",
      "(a/n): (71304917/3)\n",
      "(a/n): (3/2)\n",
      "(a/n): (2/1)\n",
      "(3/n) = 1\n",
      "(a/n): (5/71304917)\n",
      "(a/n): (71304917/5)\n",
      "(a/n): (5/2)\n",
      "(a/n): (2/1)\n",
      "(5/n) = 1\n",
      "(a/n): (7/71304917)\n",
      "(a/n): (71304917/7)\n",
      "(a/n): (7/5)\n",
      "(a/n): (5/2)\n",
      "(a/n): (2/1)\n",
      "(7/n) = 1\n",
      "(a/n): (11/71304917)\n",
      "(a/n): (71304917/11)\n",
      "(a/n): (11/2)\n",
      "(a/n): (2/1)\n",
      "(11/n) = 1\n"
     ]
    }
   ],
   "source": [
    "function simbolo_jacobi(a, n)\n",
    "    println(\"(a/n): ($a/$n)\")\n",
    "    if n == 1\n",
    "        1\n",
    "    elseif a % 2 == 0\n",
    "        if n % 8 == 3 || n % 8 == 5\n",
    "            # n = +-3 mod 8 => (2/n) = -1\n",
    "            -simbolo_jacobi(a/2, n)\n",
    "        else\n",
    "            # n = +-1 mod 8 => (2/n) = 1\n",
    "            simbolo_jacobi(a/2, n)\n",
    "        end\n",
    "    else\n",
    "        if a % 4 == 3 && n % 4 == 3\n",
    "            # a, n impares, a = n = 3 mod 4 => (a/n) = -(n/a)\n",
    "            -simbolo_jacobi(n, a%n)\n",
    "        else\n",
    "            # a, n impares, a ó n = 1 mod 4 => (a/n) = (n/a)\n",
    "            simbolo_jacobi(n, a%n)\n",
    "        end\n",
    "    end\n",
    "end\n",
    "\n",
    "\n",
    "for p in [2, 3, 5, 7, 11]\n",
    "    println(\"($p/n) = $(simbolo_jacobi(p, n))\")\n",
    "end"
   ]
  },
  {
   "cell_type": "markdown",
   "metadata": {},
   "source": [
    "# Apartado 3\n",
    "\n",
    "### Si para alguna de esas bases tu número sale posible primo de Fermat, comprueba si además es posible primo de Euler."
   ]
  }
 ],
 "metadata": {
  "kernelspec": {
   "display_name": "Julia 1.1.0",
   "language": "julia",
   "name": "julia-1.1"
  },
  "language_info": {
   "file_extension": ".jl",
   "mimetype": "application/julia",
   "name": "julia",
   "version": "1.1.0"
  }
 },
 "nbformat": 4,
 "nbformat_minor": 2
}
