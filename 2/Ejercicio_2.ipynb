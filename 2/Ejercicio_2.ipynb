{
 "cells": [
  {
   "cell_type": "code",
   "execution_count": 1,
   "metadata": {},
   "outputs": [],
   "source": [
    "using Combinatorics\n",
    "n = 71304923;"
   ]
  },
  {
   "cell_type": "markdown",
   "metadata": {},
   "source": [
    "# Apartado 1\n",
    "\n",
    "### Usando el algoritmo manual, calcula el símbolo de Jacobi $(\\frac{p}{n})$, para los 5 primeros primos."
   ]
  },
  {
   "cell_type": "markdown",
   "metadata": {},
   "source": [
    "**p = 2**:"
   ]
  },
  {
   "cell_type": "code",
   "execution_count": 2,
   "metadata": {},
   "outputs": [
    {
     "data": {
      "text/plain": [
       "3"
      ]
     },
     "execution_count": 2,
     "metadata": {},
     "output_type": "execute_result"
    }
   ],
   "source": [
    "n % 8"
   ]
  },
  {
   "cell_type": "markdown",
   "metadata": {},
   "source": [
    "$n \\equiv_8 3 \\Rightarrow (\\frac{2}{n}) = -1$"
   ]
  },
  {
   "cell_type": "markdown",
   "metadata": {},
   "source": [
    "Comprobamos el resultado:"
   ]
  },
  {
   "cell_type": "code",
   "execution_count": 3,
   "metadata": {},
   "outputs": [
    {
     "data": {
      "text/plain": [
       "-1"
      ]
     },
     "execution_count": 3,
     "metadata": {},
     "output_type": "execute_result"
    }
   ],
   "source": [
    "jacobisymbol(2, n)"
   ]
  },
  {
   "cell_type": "markdown",
   "metadata": {},
   "source": [
    "**p = 3**:"
   ]
  },
  {
   "cell_type": "code",
   "execution_count": 4,
   "metadata": {},
   "outputs": [
    {
     "data": {
      "text/plain": [
       "3"
      ]
     },
     "execution_count": 4,
     "metadata": {},
     "output_type": "execute_result"
    }
   ],
   "source": [
    "n % 4"
   ]
  },
  {
   "cell_type": "markdown",
   "metadata": {},
   "source": [
    "$n \\equiv_4 p \\equiv_4 3 \\Rightarrow (\\frac{3}{n}) = -(\\frac{n}{3})$"
   ]
  },
  {
   "cell_type": "code",
   "execution_count": 5,
   "metadata": {},
   "outputs": [
    {
     "data": {
      "text/plain": [
       "2"
      ]
     },
     "execution_count": 5,
     "metadata": {},
     "output_type": "execute_result"
    }
   ],
   "source": [
    "n % 3"
   ]
  },
  {
   "cell_type": "markdown",
   "metadata": {},
   "source": [
    "$n \\equiv_3 2\\Rightarrow -(\\frac{n}{3}) = -(\\frac{2}{3}) = -(-1) = 1$"
   ]
  },
  {
   "cell_type": "markdown",
   "metadata": {},
   "source": [
    "Comprobamos el resultado:"
   ]
  },
  {
   "cell_type": "code",
   "execution_count": 6,
   "metadata": {},
   "outputs": [
    {
     "data": {
      "text/plain": [
       "1"
      ]
     },
     "execution_count": 6,
     "metadata": {},
     "output_type": "execute_result"
    }
   ],
   "source": [
    "jacobisymbol(3, n)"
   ]
  },
  {
   "cell_type": "markdown",
   "metadata": {},
   "source": [
    "**p = 5**:\n",
    "\n",
    "$5 \\equiv_4 1 \\Rightarrow (\\frac{5}{n}) = (\\frac{n}{5})$"
   ]
  },
  {
   "cell_type": "code",
   "execution_count": 7,
   "metadata": {},
   "outputs": [
    {
     "data": {
      "text/plain": [
       "3"
      ]
     },
     "execution_count": 7,
     "metadata": {},
     "output_type": "execute_result"
    }
   ],
   "source": [
    "n % 5"
   ]
  },
  {
   "cell_type": "markdown",
   "metadata": {},
   "source": [
    "$n \\equiv_5 3 \\Rightarrow (\\frac{n}{5}) = (\\frac{3}{5}) = (\\frac{5}{3}) = (\\frac{2}{3}) = -1$"
   ]
  },
  {
   "cell_type": "markdown",
   "metadata": {},
   "source": [
    "Comprobamos el resultado:"
   ]
  },
  {
   "cell_type": "code",
   "execution_count": 8,
   "metadata": {
    "scrolled": true
   },
   "outputs": [
    {
     "data": {
      "text/plain": [
       "-1"
      ]
     },
     "execution_count": 8,
     "metadata": {},
     "output_type": "execute_result"
    }
   ],
   "source": [
    "jacobisymbol(5, n)"
   ]
  },
  {
   "cell_type": "markdown",
   "metadata": {},
   "source": [
    "**p = 7**:\n",
    "\n",
    "$n \\equiv_4 7 \\equiv_4 3 \\Rightarrow (\\frac{7}{n}) = -(\\frac{n}{7})$"
   ]
  },
  {
   "cell_type": "code",
   "execution_count": 9,
   "metadata": {},
   "outputs": [
    {
     "data": {
      "text/plain": [
       "4"
      ]
     },
     "execution_count": 9,
     "metadata": {},
     "output_type": "execute_result"
    }
   ],
   "source": [
    "n % 7"
   ]
  },
  {
   "cell_type": "markdown",
   "metadata": {},
   "source": [
    "$n \\equiv_7 4 \\Rightarrow -(\\frac{n}{7}) = -(\\frac{4}{7}) = -(\\frac{2}{7})^2 = -1$\n",
    "\n",
    "Ya que $(\\frac{2}{7}) \\in \\{1, -1\\}$"
   ]
  },
  {
   "cell_type": "markdown",
   "metadata": {},
   "source": [
    "Comprobamos el resultado:"
   ]
  },
  {
   "cell_type": "code",
   "execution_count": 10,
   "metadata": {},
   "outputs": [
    {
     "data": {
      "text/plain": [
       "-1"
      ]
     },
     "execution_count": 10,
     "metadata": {},
     "output_type": "execute_result"
    }
   ],
   "source": [
    "jacobisymbol(7, n)"
   ]
  },
  {
   "cell_type": "markdown",
   "metadata": {},
   "source": [
    "**p = 11**:\n",
    "\n",
    "$n \\equiv_4 11 \\equiv_4 3 \\Rightarrow (\\frac{11}{n}) = -(\\frac{n}{11})$"
   ]
  },
  {
   "cell_type": "code",
   "execution_count": 11,
   "metadata": {},
   "outputs": [
    {
     "data": {
      "text/plain": [
       "8"
      ]
     },
     "execution_count": 11,
     "metadata": {},
     "output_type": "execute_result"
    }
   ],
   "source": [
    "n % 11"
   ]
  },
  {
   "cell_type": "markdown",
   "metadata": {},
   "source": [
    "$n \\equiv_11 8 \\Rightarrow -(\\frac{n}{11}) = -(\\frac{8}{11}) = -(\\frac{2}{11})^3 = -(\\frac{2}{11})$\n",
    "\n",
    "$11 \\equiv_8 3 \\Rightarrow (\\frac{2}{11}) = -1 \\Rightarrow (\\frac{11}{n}) = 1$"
   ]
  },
  {
   "cell_type": "markdown",
   "metadata": {},
   "source": [
    "Comprobamos el resultado:"
   ]
  },
  {
   "cell_type": "code",
   "execution_count": 12,
   "metadata": {},
   "outputs": [
    {
     "data": {
      "text/plain": [
       "1"
      ]
     },
     "execution_count": 12,
     "metadata": {},
     "output_type": "execute_result"
    }
   ],
   "source": [
    "jacobisymbol(11, n)"
   ]
  },
  {
   "cell_type": "markdown",
   "metadata": {},
   "source": [
    "Estos pasos se pueden automatizar fácilmente mediante el siguiente algoritmo:"
   ]
  },
  {
   "cell_type": "code",
   "execution_count": 13,
   "metadata": {},
   "outputs": [
    {
     "name": "stdout",
     "output_type": "stream",
     "text": [
      "(2/n) = -1\n",
      "(3/n) = 1\n",
      "(5/n) = -1\n",
      "(7/n) = -1\n",
      "(11/n) = 1\n"
     ]
    }
   ],
   "source": [
    "function simbolo_jacobi(a, n)\n",
    "    if n == 1\n",
    "        1\n",
    "    elseif a > n\n",
    "        # a = r mod n => (a/n) = (r/n)\n",
    "        simbolo_jacobi(a%n, n)\n",
    "    elseif a % 2 == 0\n",
    "        if n % 8 == 3 || n % 8 == 5\n",
    "            # n = +-3 mod 8 => (2/n) = -1\n",
    "            -simbolo_jacobi(a/2, n)\n",
    "        else\n",
    "            # n = +-1 mod 8 => (2/n) = 1\n",
    "            simbolo_jacobi(a/2, n)\n",
    "        end\n",
    "    else\n",
    "        if a % 4 == 3 && n % 4 == 3\n",
    "            # a, n impares, a = n = 3 mod 4 => (a/n) = -(n/a)\n",
    "            -simbolo_jacobi(n, a)\n",
    "        else\n",
    "            # a, n impares, a ó n = 1 mod 4 => (a/n) = (n/a)\n",
    "            simbolo_jacobi(n, a)\n",
    "        end\n",
    "    end\n",
    "end\n",
    "\n",
    "\n",
    "for p in [2, 3, 5, 7, 11]\n",
    "    println(\"($p/n) = $(simbolo_jacobi(p, n))\")\n",
    "end"
   ]
  },
  {
   "cell_type": "markdown",
   "metadata": {},
   "source": [
    "# Apartado 2\n",
    "\n",
    "### Si para alguna de esas bases tu número sale posible primo de Fermat, comprueba si además es posible primo de Euler."
   ]
  },
  {
   "cell_type": "markdown",
   "metadata": {},
   "source": [
    "Comprobamos para que bases $n$ es posible primo de Fermat"
   ]
  },
  {
   "cell_type": "code",
   "execution_count": 14,
   "metadata": {},
   "outputs": [
    {
     "name": "stdout",
     "output_type": "stream",
     "text": [
      "2^(n-1) mod n = 1\n",
      "3^(n-1) mod n = 1\n",
      "5^(n-1) mod n = 1\n",
      "7^(n-1) mod n = 1\n",
      "11^(n-1) mod n = 1\n"
     ]
    }
   ],
   "source": [
    "for p in [2, 3, 5, 7, 11]\n",
    "    println(\"$p^(n-1) mod n = $(powermod(p, n-1, n))\")\n",
    "end"
   ]
  },
  {
   "cell_type": "markdown",
   "metadata": {},
   "source": [
    "Tenemos que $n$ es posible primo de Fermat para los 5 primeros primos. Veamos si también es posible primo de Euler, para ello comprobamos si $(\\frac{p}{n}) \\equiv p^{\\frac{n-1}{2}}\\ mod\\ n$ para cada base."
   ]
  },
  {
   "cell_type": "code",
   "execution_count": 15,
   "metadata": {},
   "outputs": [
    {
     "name": "stdout",
     "output_type": "stream",
     "text": [
      "(2/n) = -1\n",
      "2^((n-1)/2) mod n = 71304922\n",
      "\n",
      "(3/n) = 1\n",
      "3^((n-1)/2) mod n = 1\n",
      "\n",
      "(5/n) = -1\n",
      "5^((n-1)/2) mod n = 71304922\n",
      "\n",
      "(7/n) = -1\n",
      "7^((n-1)/2) mod n = 71304922\n",
      "\n",
      "(11/n) = 1\n",
      "11^((n-1)/2) mod n = 1\n",
      "\n"
     ]
    }
   ],
   "source": [
    "for p in [2, 3, 5, 7, 11]\n",
    "    j = jacobisymbol(p,n)\n",
    "    println(\"($p/n) = $j\")\n",
    "    \n",
    "    x = powermod(p, BigInt((n-1)/2), n)\n",
    "    println(\"$p^((n-1)/2) mod n = $x\")\n",
    "    \n",
    "    print(\"\\n\")\n",
    "end"
   ]
  },
  {
   "cell_type": "markdown",
   "metadata": {},
   "source": [
    "Vemos que $71304922 \\equiv_n -1$:"
   ]
  },
  {
   "cell_type": "code",
   "execution_count": 16,
   "metadata": {},
   "outputs": [
    {
     "data": {
      "text/plain": [
       "true"
      ]
     },
     "execution_count": 16,
     "metadata": {},
     "output_type": "execute_result"
    }
   ],
   "source": [
    "(71304922 + 1) % n == 0"
   ]
  },
  {
   "cell_type": "markdown",
   "metadata": {},
   "source": [
    "Por lo tanto también es posible primo de Euler para los 5 primeros primos."
   ]
  }
 ],
 "metadata": {
  "kernelspec": {
   "display_name": "Julia 1.0.3 (4 threads)",
   "language": "julia",
   "name": "julia-1.0k"
  },
  "language_info": {
   "file_extension": ".jl",
   "mimetype": "application/julia",
   "name": "julia",
   "version": "1.0.3"
  }
 },
 "nbformat": 4,
 "nbformat_minor": 2
}
